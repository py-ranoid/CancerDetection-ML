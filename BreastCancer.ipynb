{
 "cells": [
  {
   "cell_type": "code",
   "execution_count": 1,
   "metadata": {
    "collapsed": true
   },
   "outputs": [],
   "source": [
    "\n",
    "import pandas as pd\n",
    "import numpy as np\n",
    "from collections import Counter\n",
    "from sklearn.tree import DecisionTreeClassifier\n",
    "from sklearn.ensemble import RandomForestClassifier\n",
    "from sklearn.ensemble import ExtraTreesClassifier\n",
    "from sklearn import svm\n",
    "from sklearn import model_selection"
   ]
  },
  {
   "cell_type": "code",
   "execution_count": 2,
   "metadata": {},
   "outputs": [
    {
     "data": {
      "text/plain": [
       "(569, 33)"
      ]
     },
     "execution_count": 2,
     "metadata": {},
     "output_type": "execute_result"
    }
   ],
   "source": [
    "df = pd.read_csv(\"./Breast Cancer Dataset/data.csv\",header=0)\n",
    "df.shape"
   ]
  },
  {
   "cell_type": "code",
   "execution_count": 4,
   "metadata": {},
   "outputs": [
    {
     "data": {
      "text/plain": [
       "Index([u'id', u'diagnosis', u'radius_mean', u'texture_mean', u'perimeter_mean',\n",
       "       u'area_mean', u'smoothness_mean', u'compactness_mean',\n",
       "       u'concavity_mean', u'concave points_mean', u'symmetry_mean',\n",
       "       u'fractal_dimension_mean', u'radius_se', u'texture_se', u'perimeter_se',\n",
       "       u'area_se', u'smoothness_se', u'compactness_se', u'concavity_se',\n",
       "       u'concave points_se', u'symmetry_se', u'fractal_dimension_se',\n",
       "       u'radius_worst', u'texture_worst', u'perimeter_worst', u'area_worst',\n",
       "       u'smoothness_worst', u'compactness_worst', u'concavity_worst',\n",
       "       u'concave points_worst', u'symmetry_worst', u'fractal_dimension_worst',\n",
       "       u'Unnamed: 32'],\n",
       "      dtype='object')"
      ]
     },
     "execution_count": 4,
     "metadata": {},
     "output_type": "execute_result"
    }
   ],
   "source": [
    "df.columns"
   ]
  },
  {
   "cell_type": "code",
   "execution_count": 3,
   "metadata": {
    "collapsed": true
   },
   "outputs": [],
   "source": [
    "del df['Unnamed: 32']\n",
    "del df['id']\n"
   ]
  },
  {
   "cell_type": "code",
   "execution_count": 4,
   "metadata": {},
   "outputs": [
    {
     "name": "stdout",
     "output_type": "stream",
     "text": [
      "(569, 31)\n",
      "(569, 31)\n"
     ]
    }
   ],
   "source": [
    "print df.shape\n",
    "print df.values.shape"
   ]
  },
  {
   "cell_type": "code",
   "execution_count": 5,
   "metadata": {},
   "outputs": [
    {
     "name": "stdout",
     "output_type": "stream",
     "text": [
      "(569,)\n"
     ]
    }
   ],
   "source": [
    "y = df.values[:,0]\n",
    "x = df.values[:,1:]\n",
    "u = []\n",
    "for i in y:\n",
    "    if(i=='M'):\n",
    "        u.append(1)\n",
    "    else:\n",
    "        u.append(0)\n",
    "y = np.array(u)\n",
    "print np.shape(y)"
   ]
  },
  {
   "cell_type": "code",
   "execution_count": 6,
   "metadata": {},
   "outputs": [
    {
     "name": "stdout",
     "output_type": "stream",
     "text": [
      "Counter({0: 121, 1: 67}) Counter({0: 236, 1: 145})\n"
     ]
    }
   ],
   "source": [
    "X_train, X_test, y_train, y_test = model_selection.train_test_split(x,y,test_size=0.33,random_state=0)#,stratify = y)\n",
    "print Counter(y_test),Counter(y_train)"
   ]
  },
  {
   "cell_type": "code",
   "execution_count": 13,
   "metadata": {},
   "outputs": [
    {
     "name": "stdout",
     "output_type": "stream",
     "text": [
      "Random forest ( with : entropy ) 0.962765957447\n",
      "Extra trees ( with : entropy ) 0.962765957447\n",
      "Random forest ( with : gini ) 0.962765957447\n",
      "Extra trees ( with : gini ) 0.962765957447\n"
     ]
    }
   ],
   "source": [
    "for cri in [\"entropy\", \"gini\"]:\n",
    "    rf = RandomForestClassifier(n_estimators=200,max_features=6,criterion=cri)\n",
    "    rf.fit(X_train,y_train)\n",
    "    print \"Random forest (\", \"with :\",cri,\")\",rf.score(X_test,y_test)\n",
    "\n",
    "    et = ExtraTreesClassifier(n_estimators=200,max_features=6,criterion=cri)\n",
    "    et.fit(X_train,y_train)\n",
    "    print \"Extra trees (\", \"with :\",cri,\")\",et.score(X_test,y_test)"
   ]
  },
  {
   "cell_type": "code",
   "execution_count": 14,
   "metadata": {},
   "outputs": [
    {
     "name": "stdout",
     "output_type": "stream",
     "text": [
      "decision tree:  0.909574468085\n"
     ]
    }
   ],
   "source": [
    "#Decision Tree Classifier.\n",
    "dt = DecisionTreeClassifier()\n",
    "dt.fit(X_train,y_train)\n",
    "print \"decision tree: \",dt.score(X_test,y_test)"
   ]
  },
  {
   "cell_type": "code",
   "execution_count": 15,
   "metadata": {},
   "outputs": [
    {
     "name": "stdout",
     "output_type": "stream",
     "text": [
      "SVM:  0.643617021277\n"
     ]
    }
   ],
   "source": [
    "# SVM Classifier with default parameters.\n",
    "#libsvm package in O(n^2)\n",
    "SVM = svm.SVC()\n",
    "SVM.fit(X_train,y_train)\n",
    "print \"SVM: \",SVM.score(X_test,y_test)\n"
   ]
  },
  {
   "cell_type": "code",
   "execution_count": 16,
   "metadata": {},
   "outputs": [
    {
     "name": "stdout",
     "output_type": "stream",
     "text": [
      "SVM:  0.643617021277\n"
     ]
    }
   ],
   "source": [
    "#Kernel : 'rbf'\n",
    "SVM = svm.SVC(kernel='rbf')\n",
    "SVM.fit(X_train,y_train)\n",
    "print \"SVM: \",SVM.score(X_test,y_test)\n"
   ]
  },
  {
   "cell_type": "code",
   "execution_count": 36,
   "metadata": {},
   "outputs": [
    {
     "name": "stdout",
     "output_type": "stream",
     "text": [
      "SVM:  0.946808510638\n"
     ]
    }
   ],
   "source": [
    "#Kernel : 'poly'\n",
    "SVM = svm.SVC(kernel='poly',degree=2)\n",
    "SVM.fit(X_train,y_train)\n",
    "print \"SVM: \",SVM.score(X_test,y_test)\n"
   ]
  },
  {
   "cell_type": "code",
   "execution_count": 35,
   "metadata": {},
   "outputs": [
    {
     "name": "stdout",
     "output_type": "stream",
     "text": [
      "SVM:  0.643617021277\n"
     ]
    }
   ],
   "source": [
    "#Kernel : 'sigmoid'\n",
    "SVM = svm.SVC(kernel='sigmoid')\n",
    "SVM.fit(X_train,y_train)\n",
    "print \"SVM: \",SVM.score(X_test,y_test)\n"
   ]
  },
  {
   "cell_type": "code",
   "execution_count": 34,
   "metadata": {},
   "outputs": [
    {
     "name": "stdout",
     "output_type": "stream",
     "text": [
      "SVM:  0.957446808511\n"
     ]
    }
   ],
   "source": [
    "#Kernel : 'linear'\n",
    "SVM = svm.SVC(kernel='linear')\n",
    "SVM.fit(X_train,y_train)\n",
    "print \"SVM: \",SVM.score(X_test,y_test)\n"
   ]
  },
  {
   "cell_type": "code",
   "execution_count": 21,
   "metadata": {},
   "outputs": [
    {
     "name": "stdout",
     "output_type": "stream",
     "text": [
      "x :  1.0  SVM:  0.957446808511\n",
      "x :  1.5  SVM:  0.968085106383\n",
      "x :  2.0  SVM:  0.962765957447\n",
      "x :  2.5  SVM:  0.962765957447\n",
      "x :  3.0  SVM:  0.957446808511\n",
      "x :  3.5  SVM:  0.968085106383\n",
      "x :  4.0  SVM:  0.957446808511\n",
      "x :  4.5  SVM:  0.968085106383\n",
      "x :  5.0  SVM:  0.962765957447\n",
      "x :  5.5  SVM:  0.962765957447\n",
      "x :  6.0  SVM:  0.968085106383\n",
      "x :  6.5  SVM:  0.968085106383\n",
      "x :  7.0  SVM:  0.968085106383\n",
      "x :  7.5  SVM:  0.968085106383\n",
      "x :  8.0  SVM:  0.968085106383\n",
      "x :  8.5  SVM:  0.962765957447\n",
      "x :  9.0  SVM:  0.962765957447\n",
      "x :  9.5  SVM:  0.968085106383\n",
      "x :  10.0  SVM:  0.957446808511\n",
      "x :  10.5  SVM:  0.962765957447\n",
      "x :  11.0  SVM:  0.962765957447\n",
      "x :  11.5  SVM:  0.968085106383\n",
      "x :  12.0  SVM:  0.952127659574\n",
      "x :  12.5  SVM:  0.946808510638\n",
      "x :  13.0  SVM:  0.952127659574\n"
     ]
    }
   ],
   "source": [
    "#Kernel : 'linear'\n",
    "count=1\n",
    "x=1.0\n",
    "while(count <= 25):\n",
    "    SVM = svm.SVC(kernel='linear',C=x)\n",
    "    SVM.fit(X_train,y_train)\n",
    "    print \"x : \", x ,\" SVM: \",SVM.score(X_test,y_test)\n",
    "    x += 0.5\n",
    "    count += 1\n",
    "\n",
    "#Best C : [1.5]"
   ]
  },
  {
   "cell_type": "code",
   "execution_count": 76,
   "metadata": {},
   "outputs": [
    {
     "name": "stdout",
     "output_type": "stream",
     "text": [
      "Random State  0 : 0.968085106383\n",
      "Random State  1 : 0.968085106383\n",
      "Random State  2 : 0.968085106383\n",
      "Random State  3 : 0.968085106383\n",
      "Random State  4 : 0.968085106383\n",
      "Random State  5 : 0.968085106383\n",
      "Random State  6 : 0.968085106383\n",
      "Random State  7 : 0.968085106383\n",
      "Random State  8 : 0.968085106383\n",
      "Random State  9 : 0.968085106383\n",
      "\n",
      "Best Results :  0  :  0.968085106383\n"
     ]
    }
   ],
   "source": [
    "# 'OVO'\n",
    "max_i = 0\n",
    "maxacc=0.0\n",
    "acc=0.0\n",
    "for i in range(0,10):\n",
    "     SVM = svm.SVC(kernel='linear',C=1.5,decision_function_shape='ovo',random_state=i)\n",
    "     SVM.fit(X_train,y_train)\n",
    "     acc=SVM.score(X_test,y_test)\n",
    "     if (acc > maxacc):\n",
    "        maxacc = acc\n",
    "        max_i = i\n",
    "     print \"Random State \",i,\":\",acc\n",
    "    \n",
    "print \"\\nBest Results : \",max_i,\" : \",maxacc    "
   ]
  },
  {
   "cell_type": "code",
   "execution_count": 72,
   "metadata": {},
   "outputs": [
    {
     "name": "stdout",
     "output_type": "stream",
     "text": [
      "Random State  0 : 0.941489361702\n",
      "Random State  1 : 0.877659574468\n",
      "Random State  2 : 0.936170212766\n",
      "Random State  3 : 0.851063829787\n",
      "Random State  4 : 0.86170212766\n",
      "Random State  5 : 0.952127659574\n",
      "Random State  6 : 0.952127659574\n",
      "Random State  7 : 0.957446808511\n",
      "Random State  8 : 0.962765957447\n",
      "Random State  9 : 0.925531914894\n",
      "Random State  10 : 0.872340425532\n",
      "Random State  11 : 0.936170212766\n",
      "Random State  12 : 0.952127659574\n",
      "Random State  13 : 0.914893617021\n",
      "Random State  14 : 0.914893617021\n",
      "Random State  15 : 0.962765957447\n",
      "Random State  16 : 0.957446808511\n",
      "Random State  17 : 0.563829787234\n",
      "Random State  18 : 0.962765957447\n",
      "Random State  19 : 0.872340425532\n",
      "\n",
      "Best Results :  8  :  0.962765957447\n"
     ]
    }
   ],
   "source": [
    "#LinearSVC : with liblinear package in O(n)\n",
    "#Random State given to ensure that the mean accuracy remains the same across multiple runs.\n",
    "max_i = 0\n",
    "maxacc=0.0\n",
    "acc=0.0\n",
    "for i in range(0,20):\n",
    "     lin_svm = svm.LinearSVC(random_state=i)\n",
    "     lin_svm.fit(X_train,y_train)\n",
    "     acc=lin_svm.score(X_test,y_test)\n",
    "     if (acc > maxacc):\n",
    "        maxacc = acc\n",
    "        max_i = i\n",
    "     print \"Random State \",i,\":\",acc\n",
    "    \n",
    "print \"\\nBest Results : \",max_i,\" : \",maxacc    "
   ]
  },
  {
   "cell_type": "code",
   "execution_count": 98,
   "metadata": {},
   "outputs": [
    {
     "name": "stdout",
     "output_type": "stream",
     "text": [
      "0.968085106383\n",
      "0.968085106383\n"
     ]
    }
   ],
   "source": [
    "#Linear SVM with the best random_state.\n",
    "#Variation of 'penalty'.\n",
    "for i in [\"l1\",\"l2\"]:\n",
    "    lin_svm = svm.LinearSVC(penalty=i,random_state=8,dual=False)\n",
    "    lin_svm.fit(X_train,y_train)\n",
    "    print lin_svm.score(X_test,y_test)"
   ]
  },
  {
   "cell_type": "code",
   "execution_count": 99,
   "metadata": {},
   "outputs": [
    {
     "name": "stdout",
     "output_type": "stream",
     "text": [
      "0.968085106383\n",
      "0.941489361702\n"
     ]
    }
   ],
   "source": [
    "#Linear SVM with the best random_state.\n",
    "#Variation of 'multi_class'.\n",
    "for i in [\"ovr\",\"crammer_singer\"]:\n",
    "    lin_svm = svm.LinearSVC(multi_class=i,random_state=8,dual=False)\n",
    "    lin_svm.fit(X_train,y_train)\n",
    "    print lin_svm.score(X_test,y_test)"
   ]
  },
  {
   "cell_type": "code",
   "execution_count": null,
   "metadata": {
    "collapsed": true
   },
   "outputs": [],
   "source": []
  }
 ],
 "metadata": {
  "kernelspec": {
   "display_name": "Python 2",
   "language": "python",
   "name": "python2"
  },
  "language_info": {
   "codemirror_mode": {
    "name": "ipython",
    "version": 2
   },
   "file_extension": ".py",
   "mimetype": "text/x-python",
   "name": "python",
   "nbconvert_exporter": "python",
   "pygments_lexer": "ipython2",
   "version": "2.7.13"
  }
 },
 "nbformat": 4,
 "nbformat_minor": 2
}
